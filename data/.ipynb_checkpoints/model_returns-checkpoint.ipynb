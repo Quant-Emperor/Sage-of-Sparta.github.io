{
 "cells": [
  {
   "cell_type": "code",
   "execution_count": 1,
   "id": "7a0488fe",
   "metadata": {},
   "outputs": [
    {
     "name": "stdout",
     "output_type": "stream",
     "text": [
      "test\n",
      "AAPL_ret\n",
      "TSLA_ret\n",
      "XLF_ret\n",
      "SPY_ret\n",
      "QQQ_ret\n",
      "GLD_ret\n",
      "         date  AAPL_ret  TSLA_ret  XLF_ret  SPY_ret  QQQ_ret  GLD_ret\n",
      "0  2022-08-22    -1.249    -0.685   -0.755   -0.887   -1.300   -0.012\n",
      "1  2022-08-19    -0.873    -0.780   -1.410   -0.668   -1.015   -0.568\n",
      "2  2022-08-18     0.230    -1.023    0.197    0.241    0.256   -0.413\n",
      "3  2022-08-17     1.030     0.198    0.650    0.174   -0.176   -0.521\n",
      "4  2022-08-16     0.145    -1.637    1.187    0.461    0.066    0.067\n",
      "5  2022-08-15     0.974     2.496    0.994    0.963    1.105   -0.169\n",
      "6  2022-08-12     1.343     3.667    1.080    1.201    1.292    0.419\n",
      "7  2022-08-11    -0.923    -3.333    0.258   -0.709   -1.287   -0.491\n",
      "8  2022-08-10     0.930    -0.912    0.494    0.289    0.413   -0.364\n",
      "9  2022-08-09     0.549    -2.398    0.326   -0.211   -0.530   -0.167\n"
     ]
    }
   ],
   "source": [
    "import glob\n",
    "import os\n",
    "import pandas as pd   \n",
    "import json\n",
    "from urllib.request import urlopen\n",
    "\n",
    "\n",
    "print(\"test\")\n",
    "long_basket = [\"AAPL\",\"TSLA\",\"XLF\",\"SPY\",\"QQQ\",\"GLD\"]\n",
    "short_basket = []\n",
    "apikey = \"c01b3c8e189822588988574a0c3957dd\"\n",
    "\n",
    "def get_jsonparsed_data(url):\n",
    "    \"\"\"\n",
    "    Receive the content of ``url``, parse it as JSON and return the object.\n",
    "\n",
    "    Parameters\n",
    "    ----------\n",
    "    url : str\n",
    "\n",
    "    Returns\n",
    "    -------\n",
    "    dict\n",
    "    \"\"\"\n",
    "    response = urlopen(url)\n",
    "    data = response.read().decode(\"utf-8\")\n",
    "    return json.loads(data)\n",
    "\n",
    "url = (\"https://financialmodelingprep.com/api/v3/historical-price-full/AAPL?timeseries=100&apikey=c01b3c8e189822588988574a0c3957dd\")\n",
    "\n",
    "i = 0\n",
    "\n",
    "for ticker in long_basket:\n",
    "    url = \"https://financialmodelingprep.com/api/v3/historical-price-full/%s?timeseries=10&apikey=%s\" % (ticker,apikey)\n",
    "    dict_ = get_jsonparsed_data(url)\n",
    "    df = pd.DataFrame(dict_['historical'])\n",
    "    col = ticker + \"_ret\"\n",
    "    print(col)\n",
    "    if i == 0:\n",
    "        new_df = df[[\"date\",\"changePercent\"]].copy()\n",
    "        new_df = new_df.rename(columns={\"changePercent\": col}).copy()\n",
    "    else:\n",
    "        new_df = new_df.merge(df[[\"date\",\"changePercent\"]], on='date', how='left').copy()\n",
    "        new_df = new_df.rename(columns={\"changePercent\": col}).copy()\n",
    "    \n",
    "    i = i + 1\n",
    "\n",
    "\n",
    "print(new_df)"
   ]
  },
  {
   "cell_type": "code",
   "execution_count": 35,
   "id": "bcfaa20e",
   "metadata": {},
   "outputs": [
    {
     "data": {
      "text/html": [
       "<div>\n",
       "<style scoped>\n",
       "    .dataframe tbody tr th:only-of-type {\n",
       "        vertical-align: middle;\n",
       "    }\n",
       "\n",
       "    .dataframe tbody tr th {\n",
       "        vertical-align: top;\n",
       "    }\n",
       "\n",
       "    .dataframe thead th {\n",
       "        text-align: right;\n",
       "    }\n",
       "</style>\n",
       "<table border=\"1\" class=\"dataframe\">\n",
       "  <thead>\n",
       "    <tr style=\"text-align: right;\">\n",
       "      <th></th>\n",
       "      <th>date</th>\n",
       "      <th>AAPL_ret</th>\n",
       "      <th>TSLA_ret</th>\n",
       "      <th>XLF_ret</th>\n",
       "      <th>SPY_ret</th>\n",
       "      <th>QQQ_ret</th>\n",
       "      <th>GLD_ret</th>\n",
       "    </tr>\n",
       "  </thead>\n",
       "  <tbody>\n",
       "    <tr>\n",
       "      <th>0</th>\n",
       "      <td>2022-08-19</td>\n",
       "      <td>-0.873</td>\n",
       "      <td>-0.780</td>\n",
       "      <td>-1.410</td>\n",
       "      <td>-0.668</td>\n",
       "      <td>-1.015</td>\n",
       "      <td>-0.568</td>\n",
       "    </tr>\n",
       "    <tr>\n",
       "      <th>1</th>\n",
       "      <td>2022-08-18</td>\n",
       "      <td>0.230</td>\n",
       "      <td>-1.023</td>\n",
       "      <td>0.197</td>\n",
       "      <td>0.241</td>\n",
       "      <td>0.256</td>\n",
       "      <td>-0.413</td>\n",
       "    </tr>\n",
       "    <tr>\n",
       "      <th>2</th>\n",
       "      <td>2022-08-17</td>\n",
       "      <td>1.030</td>\n",
       "      <td>0.198</td>\n",
       "      <td>0.650</td>\n",
       "      <td>0.174</td>\n",
       "      <td>-0.176</td>\n",
       "      <td>-0.521</td>\n",
       "    </tr>\n",
       "    <tr>\n",
       "      <th>3</th>\n",
       "      <td>2022-08-16</td>\n",
       "      <td>0.145</td>\n",
       "      <td>-1.637</td>\n",
       "      <td>1.187</td>\n",
       "      <td>0.461</td>\n",
       "      <td>0.066</td>\n",
       "      <td>0.067</td>\n",
       "    </tr>\n",
       "    <tr>\n",
       "      <th>4</th>\n",
       "      <td>2022-08-15</td>\n",
       "      <td>0.974</td>\n",
       "      <td>2.496</td>\n",
       "      <td>0.994</td>\n",
       "      <td>0.963</td>\n",
       "      <td>1.105</td>\n",
       "      <td>-0.169</td>\n",
       "    </tr>\n",
       "  </tbody>\n",
       "</table>\n",
       "</div>"
      ],
      "text/plain": [
       "         date  AAPL_ret  TSLA_ret  XLF_ret  SPY_ret  QQQ_ret  GLD_ret\n",
       "0  2022-08-19    -0.873    -0.780   -1.410   -0.668   -1.015   -0.568\n",
       "1  2022-08-18     0.230    -1.023    0.197    0.241    0.256   -0.413\n",
       "2  2022-08-17     1.030     0.198    0.650    0.174   -0.176   -0.521\n",
       "3  2022-08-16     0.145    -1.637    1.187    0.461    0.066    0.067\n",
       "4  2022-08-15     0.974     2.496    0.994    0.963    1.105   -0.169"
      ]
     },
     "execution_count": 35,
     "metadata": {},
     "output_type": "execute_result"
    }
   ],
   "source": [
    "new_df.head()"
   ]
  },
  {
   "cell_type": "code",
   "execution_count": 36,
   "id": "223ed377",
   "metadata": {},
   "outputs": [],
   "source": [
    "import seaborn as sns\n",
    "import matplotlib.pyplot as plt"
   ]
  },
  {
   "cell_type": "code",
   "execution_count": 37,
   "id": "bc715f20",
   "metadata": {},
   "outputs": [
    {
     "data": {
      "image/png": "[encoded data removed]",
      "text/plain": [
       "<Figure size 1080x1080 with 42 Axes>"
      ]
     },
     "metadata": {
      "needs_background": "light"
     },
     "output_type": "display_data"
    }
   ],
   "source": [
    "# Basic correlogram\n",
    "sns.pairplot(new_df.loc[:, new_df.columns != 'date'])\n",
    "plt.show()"
   ]
  },
  {
   "cell_type": "code",
   "execution_count": 38,
   "id": "dd76ad9f",
   "metadata": {},
   "outputs": [
    {
     "data": {
      "text/html": [
       "<div>\n",
       "<style scoped>\n",
       "    .dataframe tbody tr th:only-of-type {\n",
       "        vertical-align: middle;\n",
       "    }\n",
       "\n",
       "    .dataframe tbody tr th {\n",
       "        vertical-align: top;\n",
       "    }\n",
       "\n",
       "    .dataframe thead th {\n",
       "        text-align: right;\n",
       "    }\n",
       "</style>\n",
       "<table border=\"1\" class=\"dataframe\">\n",
       "  <thead>\n",
       "    <tr style=\"text-align: right;\">\n",
       "      <th></th>\n",
       "      <th>AAPL_ret</th>\n",
       "      <th>TSLA_ret</th>\n",
       "      <th>XLF_ret</th>\n",
       "      <th>SPY_ret</th>\n",
       "      <th>QQQ_ret</th>\n",
       "      <th>GLD_ret</th>\n",
       "    </tr>\n",
       "  </thead>\n",
       "  <tbody>\n",
       "    <tr>\n",
       "      <th>AAPL_ret</th>\n",
       "      <td>1.000000</td>\n",
       "      <td>0.676916</td>\n",
       "      <td>0.754496</td>\n",
       "      <td>0.857543</td>\n",
       "      <td>0.831435</td>\n",
       "      <td>0.135253</td>\n",
       "    </tr>\n",
       "    <tr>\n",
       "      <th>TSLA_ret</th>\n",
       "      <td>0.676916</td>\n",
       "      <td>1.000000</td>\n",
       "      <td>0.390355</td>\n",
       "      <td>0.822108</td>\n",
       "      <td>0.840326</td>\n",
       "      <td>0.363185</td>\n",
       "    </tr>\n",
       "    <tr>\n",
       "      <th>XLF_ret</th>\n",
       "      <td>0.754496</td>\n",
       "      <td>0.390355</td>\n",
       "      <td>1.000000</td>\n",
       "      <td>0.788837</td>\n",
       "      <td>0.675407</td>\n",
       "      <td>0.222172</td>\n",
       "    </tr>\n",
       "    <tr>\n",
       "      <th>SPY_ret</th>\n",
       "      <td>0.857543</td>\n",
       "      <td>0.822108</td>\n",
       "      <td>0.788837</td>\n",
       "      <td>1.000000</td>\n",
       "      <td>0.972857</td>\n",
       "      <td>0.386770</td>\n",
       "    </tr>\n",
       "    <tr>\n",
       "      <th>QQQ_ret</th>\n",
       "      <td>0.831435</td>\n",
       "      <td>0.840326</td>\n",
       "      <td>0.675407</td>\n",
       "      <td>0.972857</td>\n",
       "      <td>1.000000</td>\n",
       "      <td>0.414401</td>\n",
       "    </tr>\n",
       "    <tr>\n",
       "      <th>GLD_ret</th>\n",
       "      <td>0.135253</td>\n",
       "      <td>0.363185</td>\n",
       "      <td>0.222172</td>\n",
       "      <td>0.386770</td>\n",
       "      <td>0.414401</td>\n",
       "      <td>1.000000</td>\n",
       "    </tr>\n",
       "  </tbody>\n",
       "</table>\n",
       "</div>"
      ],
      "text/plain": [
       "          AAPL_ret  TSLA_ret   XLF_ret   SPY_ret   QQQ_ret   GLD_ret\n",
       "AAPL_ret  1.000000  0.676916  0.754496  0.857543  0.831435  0.135253\n",
       "TSLA_ret  0.676916  1.000000  0.390355  0.822108  0.840326  0.363185\n",
       "XLF_ret   0.754496  0.390355  1.000000  0.788837  0.675407  0.222172\n",
       "SPY_ret   0.857543  0.822108  0.788837  1.000000  0.972857  0.386770\n",
       "QQQ_ret   0.831435  0.840326  0.675407  0.972857  1.000000  0.414401\n",
       "GLD_ret   0.135253  0.363185  0.222172  0.386770  0.414401  1.000000"
      ]
     },
     "execution_count": 38,
     "metadata": {},
     "output_type": "execute_result"
    }
   ],
   "source": [
    "new_df.corr()"
   ]
  },
  {
   "cell_type": "code",
   "execution_count": null,
   "id": "36ff1c19",
   "metadata": {},
   "outputs": [],
   "source": [
    "# How to model? \n",
    "# If I long this basket and short this basket based on automated rules what is my historical returns.\n",
    "\n",
    "# what rules to get short list for the day\n",
    "# if i had opened to close what is my performance? taking away commissions etc\n",
    "# add the performance over time\n",
    "# execution / fill error risk\n",
    "\n",
    "\n",
    "# how to get inflow data\n",
    "# what are industry trends impacting my stocks - eg car loans, credit risk default, china risk\n",
    "\n",
    "\n"
   ]
  },
  {
   "cell_type": "code",
   "execution_count": 87,
   "id": "b923c7f1",
   "metadata": {},
   "outputs": [],
   "source": [
    "\n",
    "long_basket = [\"AAPL\",\"TSLA\",\"XLF\",\"SPY\",\"QQQ\",\"GLD\"]\n",
    "\n",
    "\n",
    "long_ret = pd.DataFrame()\n",
    "for ticker in long_basket:\n",
    "\n",
    "    url = \"https://financialmodelingprep.com/api/v3/historical-price-full/%s?timeseries=10&apikey=%s\" % (ticker,apikey)\n",
    "    dict_ = get_jsonparsed_data(url)\n",
    "    df = pd.DataFrame(dict_['historical'])\n",
    "    df['prev_close'] = df['close'].shift(-1)\n",
    "    df['open_close_return'] = (df['close'] - df['open'])/(df['open']) \n",
    "    df['prev_close_open_return'] = (df['open'] - df['prev_close'])/(df['prev_close']) \n",
    "    \n",
    "    #long_ret = long_ret.append({'A': ticker}, ignore_index=True)\n",
    "    \n",
    "    new_row = pd.DataFrame({'ticker':ticker, 'open_close_return':df['open_close_return'].iloc[0], 'prev_close_open_return':df['prev_close_open_return'].iloc[0]}, index=[0])\n",
    "    long_ret = pd.concat([new_row,long_ret.loc[:]]).reset_index(drop=True)\n",
    "    "
   ]
  },
  {
   "cell_type": "code",
   "execution_count": 88,
   "id": "48ac0541",
   "metadata": {},
   "outputs": [
    {
     "data": {
      "text/html": [
       "<div>\n",
       "<style scoped>\n",
       "    .dataframe tbody tr th:only-of-type {\n",
       "        vertical-align: middle;\n",
       "    }\n",
       "\n",
       "    .dataframe tbody tr th {\n",
       "        vertical-align: top;\n",
       "    }\n",
       "\n",
       "    .dataframe thead th {\n",
       "        text-align: right;\n",
       "    }\n",
       "</style>\n",
       "<table border=\"1\" class=\"dataframe\">\n",
       "  <thead>\n",
       "    <tr style=\"text-align: right;\">\n",
       "      <th></th>\n",
       "      <th>ticker</th>\n",
       "      <th>open_close_return</th>\n",
       "      <th>prev_close_open_return</th>\n",
       "    </tr>\n",
       "  </thead>\n",
       "  <tbody>\n",
       "    <tr>\n",
       "      <th>0</th>\n",
       "      <td>GLD</td>\n",
       "      <td>-0.000124</td>\n",
       "      <td>-0.006514</td>\n",
       "    </tr>\n",
       "    <tr>\n",
       "      <th>1</th>\n",
       "      <td>QQQ</td>\n",
       "      <td>-0.012998</td>\n",
       "      <td>-0.013504</td>\n",
       "    </tr>\n",
       "    <tr>\n",
       "      <th>2</th>\n",
       "      <td>SPY</td>\n",
       "      <td>-0.008872</td>\n",
       "      <td>-0.012058</td>\n",
       "    </tr>\n",
       "    <tr>\n",
       "      <th>3</th>\n",
       "      <td>XLF</td>\n",
       "      <td>-0.007547</td>\n",
       "      <td>-0.014588</td>\n",
       "    </tr>\n",
       "    <tr>\n",
       "      <th>4</th>\n",
       "      <td>TSLA</td>\n",
       "      <td>-0.006851</td>\n",
       "      <td>-0.016022</td>\n",
       "    </tr>\n",
       "    <tr>\n",
       "      <th>5</th>\n",
       "      <td>AAPL</td>\n",
       "      <td>-0.012493</td>\n",
       "      <td>-0.010669</td>\n",
       "    </tr>\n",
       "  </tbody>\n",
       "</table>\n",
       "</div>"
      ],
      "text/plain": [
       "  ticker  open_close_return  prev_close_open_return\n",
       "0    GLD          -0.000124               -0.006514\n",
       "1    QQQ          -0.012998               -0.013504\n",
       "2    SPY          -0.008872               -0.012058\n",
       "3    XLF          -0.007547               -0.014588\n",
       "4   TSLA          -0.006851               -0.016022\n",
       "5   AAPL          -0.012493               -0.010669"
      ]
     },
     "execution_count": 88,
     "metadata": {},
     "output_type": "execute_result"
    }
   ],
   "source": [
    "long_ret"
   ]
  },
  {
   "cell_type": "code",
   "execution_count": 90,
   "id": "cfa89af3",
   "metadata": {},
   "outputs": [
    {
     "data": {
      "text/plain": [
       "-0.04888587314084608"
      ]
     },
     "execution_count": 90,
     "metadata": {},
     "output_type": "execute_result"
    }
   ],
   "source": [
    "sum(long_ret['open_close_return'])"
   ]
  },
  {
   "cell_type": "code",
   "execution_count": 91,
   "id": "5b13c277",
   "metadata": {},
   "outputs": [
    {
     "data": {
      "text/plain": [
       "-0.07335605640921769"
      ]
     },
     "execution_count": 91,
     "metadata": {},
     "output_type": "execute_result"
    }
   ],
   "source": [
    "sum(long_ret['prev_close_open_return'])"
   ]
  },
  {
   "cell_type": "code",
   "execution_count": 8,
   "id": "eae15b7c",
   "metadata": {},
   "outputs": [],
   "source": []
  },
  {
   "cell_type": "code",
   "execution_count": null,
   "id": "31856b6d",
   "metadata": {},
   "outputs": [],
   "source": []
  },
  {
   "cell_type": "code",
   "execution_count": null,
   "id": "7769c695",
   "metadata": {},
   "outputs": [],
   "source": []
  }
 ],
 "metadata": {
  "kernelspec": {
   "display_name": "Python 3 (ipykernel)",
   "language": "python",
   "name": "python3"
  },
  "language_info": {
   "codemirror_mode": {
    "name": "ipython",
    "version": 3
   },
   "file_extension": ".py",
   "mimetype": "text/x-python",
   "name": "python",
   "nbconvert_exporter": "python",
   "pygments_lexer": "ipython3",
   "version": "3.8.12"
  }
 },
 "nbformat": 4,
 "nbformat_minor": 5
}
